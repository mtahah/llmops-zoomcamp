{
 "cells": [
  {
   "cell_type": "code",
   "execution_count": 29,
   "id": "afaa8887-a55d-4442-bf1c-57a38a4b792e",
   "metadata": {},
   "outputs": [
    {
     "name": "stderr",
     "output_type": "stream",
     "text": [
      "huggingface/tokenizers: The current process just got forked, after parallelism has already been used. Disabling parallelism to avoid deadlocks...\n",
      "To disable this warning, you can either:\n",
      "\t- Avoid using `tokenizers` before the fork if possible\n",
      "\t- Explicitly set the environment variable TOKENIZERS_PARALLELISM=(true | false)\n"
     ]
    },
    {
     "name": "stdout",
     "output_type": "stream",
     "text": [
      "Requirement already satisfied: matplotlib in /home/codespace/.local/lib/python3.10/site-packages (3.9.1)\n",
      "Requirement already satisfied: contourpy>=1.0.1 in /home/codespace/.local/lib/python3.10/site-packages (from matplotlib) (1.2.1)\n",
      "Requirement already satisfied: cycler>=0.10 in /home/codespace/.local/lib/python3.10/site-packages (from matplotlib) (0.12.1)\n",
      "Requirement already satisfied: fonttools>=4.22.0 in /home/codespace/.local/lib/python3.10/site-packages (from matplotlib) (4.53.1)\n",
      "Requirement already satisfied: kiwisolver>=1.3.1 in /home/codespace/.local/lib/python3.10/site-packages (from matplotlib) (1.4.5)\n",
      "Requirement already satisfied: numpy>=1.23 in /home/codespace/.local/lib/python3.10/site-packages (from matplotlib) (2.0.0)\n",
      "Requirement already satisfied: packaging>=20.0 in /home/codespace/.local/lib/python3.10/site-packages (from matplotlib) (24.1)\n",
      "Requirement already satisfied: pillow>=8 in /home/codespace/.local/lib/python3.10/site-packages (from matplotlib) (10.4.0)\n",
      "Requirement already satisfied: pyparsing>=2.3.1 in /home/codespace/.local/lib/python3.10/site-packages (from matplotlib) (3.1.2)\n",
      "Requirement already satisfied: python-dateutil>=2.7 in /home/codespace/.local/lib/python3.10/site-packages (from matplotlib) (2.9.0.post0)\n",
      "Requirement already satisfied: six>=1.5 in /home/codespace/.local/lib/python3.10/site-packages (from python-dateutil>=2.7->matplotlib) (1.16.0)\n",
      "Note: you may need to restart the kernel to use updated packages.\n"
     ]
    }
   ],
   "source": [
    "pip install matplotlib"
   ]
  },
  {
   "cell_type": "code",
   "execution_count": 2,
   "id": "0d4d1d77-f78a-4f41-a855-53d7116eeba2",
   "metadata": {},
   "outputs": [],
   "source": [
    "import numpy as np"
   ]
  },
  {
   "cell_type": "code",
   "execution_count": 3,
   "id": "8cf61930-817c-46d8-9a19-38a377295ea3",
   "metadata": {},
   "outputs": [],
   "source": [
    "import tqdm"
   ]
  },
  {
   "cell_type": "markdown",
   "id": "82e471cb-7aec-4c00-9eed-36e6f2447eb5",
   "metadata": {},
   "source": [
    "## Load documents with IDs"
   ]
  },
  {
   "cell_type": "code",
   "execution_count": 4,
   "id": "76241162-06cf-4d61-959b-1d36a8678bf3",
   "metadata": {},
   "outputs": [],
   "source": [
    "import requests \n",
    "import pandas as pd\n",
    "\n",
    "github_url = 'https://github.com/DataTalksClub/llm-zoomcamp/blob/main/04-monitoring/data/results-gpt4o-mini.csv'\n",
    "url = f'{github_url}?raw=1'\n",
    "df = pd.read_csv(url)"
   ]
  },
  {
   "cell_type": "markdown",
   "id": "ca2656a8-7713-4cd9-bdef-d3b0f37e4345",
   "metadata": {},
   "source": [
    "We will use only the first 300 documents:"
   ]
  },
  {
   "cell_type": "code",
   "execution_count": 5,
   "id": "f745e802-1cb5-4e77-afa0-a4e276270a62",
   "metadata": {},
   "outputs": [],
   "source": [
    "df = df.iloc[:300]"
   ]
  },
  {
   "cell_type": "code",
   "execution_count": 6,
   "id": "feaa12ea-9fe7-4931-9da1-b7dc2da261ed",
   "metadata": {},
   "outputs": [
    {
     "data": {
      "text/html": [
       "<div>\n",
       "<style scoped>\n",
       "    .dataframe tbody tr th:only-of-type {\n",
       "        vertical-align: middle;\n",
       "    }\n",
       "\n",
       "    .dataframe tbody tr th {\n",
       "        vertical-align: top;\n",
       "    }\n",
       "\n",
       "    .dataframe thead th {\n",
       "        text-align: right;\n",
       "    }\n",
       "</style>\n",
       "<table border=\"1\" class=\"dataframe\">\n",
       "  <thead>\n",
       "    <tr style=\"text-align: right;\">\n",
       "      <th></th>\n",
       "      <th>answer_llm</th>\n",
       "      <th>answer_orig</th>\n",
       "      <th>document</th>\n",
       "      <th>question</th>\n",
       "      <th>course</th>\n",
       "    </tr>\n",
       "  </thead>\n",
       "  <tbody>\n",
       "    <tr>\n",
       "      <th>count</th>\n",
       "      <td>300</td>\n",
       "      <td>300</td>\n",
       "      <td>300</td>\n",
       "      <td>300</td>\n",
       "      <td>300</td>\n",
       "    </tr>\n",
       "    <tr>\n",
       "      <th>unique</th>\n",
       "      <td>300</td>\n",
       "      <td>60</td>\n",
       "      <td>60</td>\n",
       "      <td>300</td>\n",
       "      <td>1</td>\n",
       "    </tr>\n",
       "    <tr>\n",
       "      <th>top</th>\n",
       "      <td>If the file download fails when using the requ...</td>\n",
       "      <td>Machine Learning Zoomcamp FAQ\\nThe purpose of ...</td>\n",
       "      <td>0227b872</td>\n",
       "      <td>What does the code using the requests library ...</td>\n",
       "      <td>machine-learning-zoomcamp</td>\n",
       "    </tr>\n",
       "    <tr>\n",
       "      <th>freq</th>\n",
       "      <td>1</td>\n",
       "      <td>5</td>\n",
       "      <td>5</td>\n",
       "      <td>1</td>\n",
       "      <td>300</td>\n",
       "    </tr>\n",
       "  </tbody>\n",
       "</table>\n",
       "</div>"
      ],
      "text/plain": [
       "                                               answer_llm  \\\n",
       "count                                                 300   \n",
       "unique                                                300   \n",
       "top     If the file download fails when using the requ...   \n",
       "freq                                                    1   \n",
       "\n",
       "                                              answer_orig  document  \\\n",
       "count                                                 300       300   \n",
       "unique                                                 60        60   \n",
       "top     Machine Learning Zoomcamp FAQ\\nThe purpose of ...  0227b872   \n",
       "freq                                                    5         5   \n",
       "\n",
       "                                                 question  \\\n",
       "count                                                 300   \n",
       "unique                                                300   \n",
       "top     What does the code using the requests library ...   \n",
       "freq                                                    1   \n",
       "\n",
       "                           course  \n",
       "count                         300  \n",
       "unique                          1  \n",
       "top     machine-learning-zoomcamp  \n",
       "freq                          300  "
      ]
     },
     "execution_count": 6,
     "metadata": {},
     "output_type": "execute_result"
    }
   ],
   "source": [
    "df.describe()"
   ]
  },
  {
   "cell_type": "markdown",
   "id": "dad79539-4334-48f8-a5c4-5fa266f395e8",
   "metadata": {},
   "source": [
    "## Get the Embeddings"
   ]
  },
  {
   "cell_type": "code",
   "execution_count": 7,
   "id": "4a7ed93e-60e8-4163-bf92-2929892fe3f5",
   "metadata": {},
   "outputs": [
    {
     "name": "stderr",
     "output_type": "stream",
     "text": [
      "You try to use a model that was created with version 3.0.0.dev0, however, your version is 2.7.0. This might cause unexpected behavior or errors. In that case, try to update to the latest version.\n",
      "\n",
      "\n",
      "\n"
     ]
    }
   ],
   "source": [
    "model_name = 'multi-qa-mpnet-base-dot-v1'\n",
    "\n",
    "from sentence_transformers import SentenceTransformer\n",
    "embedding_model = SentenceTransformer(model_name)"
   ]
  },
  {
   "cell_type": "markdown",
   "id": "b0b17eb8-8792-40e4-a198-925c65daa528",
   "metadata": {},
   "source": [
    "###### Create the embeddings for the first LLM answer:"
   ]
  },
  {
   "cell_type": "code",
   "execution_count": 8,
   "id": "af5385b1-1b36-4d05-94d8-9347002e38e0",
   "metadata": {},
   "outputs": [],
   "source": [
    "answer_llm = df.iloc[0].answer_llm"
   ]
  },
  {
   "cell_type": "code",
   "execution_count": 9,
   "id": "a9215b98-a181-43af-96c5-419f39a2d6c2",
   "metadata": {},
   "outputs": [],
   "source": [
    "embedding_answer_one = embedding_model.encode(answer_llm)"
   ]
  },
  {
   "cell_type": "code",
   "execution_count": 10,
   "id": "433db91c-b35c-4872-9d91-04e3b1c736f9",
   "metadata": {},
   "outputs": [
    {
     "data": {
      "text/plain": [
       "768"
      ]
     },
     "execution_count": 10,
     "metadata": {},
     "output_type": "execute_result"
    }
   ],
   "source": [
    "len(embedding_answer_one)"
   ]
  },
  {
   "cell_type": "markdown",
   "id": "c0279140-3692-4801-b600-885fe2269828",
   "metadata": {},
   "source": [
    "#### First Value, at index 0"
   ]
  },
  {
   "cell_type": "code",
   "execution_count": 11,
   "id": "26d9f3e8-2271-47b8-af1f-a5691a475c45",
   "metadata": {},
   "outputs": [
    {
     "data": {
      "text/plain": [
       "np.float32(-0.42244655)"
      ]
     },
     "execution_count": 11,
     "metadata": {},
     "output_type": "execute_result"
    }
   ],
   "source": [
    "embedding_answer_one[0]"
   ]
  },
  {
   "cell_type": "markdown",
   "id": "fc041c93-ce3d-4d67-bcdb-13815de69bd8",
   "metadata": {},
   "source": [
    "#### Q2. Computing the dot product\n",
    "\n",
    "Now for each answer pair, let's create embeddings and compute dot product between them\n",
    "\n",
    "We will put the results (scores) into the evaluations list\n",
    "\n",
    "What's the 75% percentile of the score?"
   ]
  },
  {
   "cell_type": "code",
   "execution_count": 12,
   "id": "3982eee3-dd31-493a-b951-af29efeb5bc3",
   "metadata": {},
   "outputs": [],
   "source": [
    "# Create a list to store the scores\n",
    "evaluations = []\n",
    "\n",
    "# Loop through each row in the dataframe\n",
    "for index, row in df.iterrows():\n",
    "    # Get the answer pair\n",
    "    answer_llm = row['answer_llm']\n",
    "    answer_orig = row['answer_orig']\n",
    "\n",
    "    # Create embeddings for each answer\n",
    "    v_llm = embedding_model.encode(answer_llm)\n",
    "    v_orig = embedding_model.encode(answer_orig)\n",
    "    score = v_llm.dot(v_orig)\n",
    "    \n",
    "    evaluations.append(score.item())"
   ]
  },
  {
   "cell_type": "markdown",
   "id": "306c16b1-140d-4de7-94ce-b740ee5d0fc8",
   "metadata": {},
   "source": [
    "#### What's the 75% percentile of the score?"
   ]
  },
  {
   "cell_type": "code",
   "execution_count": 13,
   "id": "ae392f01-dbc5-4b65-abb8-c629b1b2d3f8",
   "metadata": {},
   "outputs": [
    {
     "name": "stdout",
     "output_type": "stream",
     "text": [
      "75% percentile of the scores: 31.6743\n"
     ]
    }
   ],
   "source": [
    "percentile_75 = np.percentile(evaluations, 75)\n",
    "\n",
    "print(f'75% percentile of the scores: {percentile_75:.4f}')"
   ]
  },
  {
   "cell_type": "markdown",
   "id": "3bc77c9c-bdc0-4884-91cd-1d29372cf116",
   "metadata": {},
   "source": [
    "#### Q3. Computing the cosine\n",
    "\n",
    "From Q2, we can see that the results are not within the [0, 1] range. It's because the vectors coming from this model are not normalized.\n",
    "\n",
    "So we need to normalize them.\n",
    "\n",
    "To do it, we\n",
    "\n",
    "Compute the norm of a vector\n",
    "Divide each element by this norm\n",
    "So, for vector v, it'll be v / ||v||\n",
    "\n",
    "In numpy, this is how you do it:"
   ]
  },
  {
   "cell_type": "code",
   "execution_count": 14,
   "id": "b49cbc9c-d972-496b-9496-6d6b62cf9fe1",
   "metadata": {},
   "outputs": [],
   "source": [
    "def compute_similarity(record):\n",
    "    answer_orig = record['answer_orig']\n",
    "    answer_llm = record['answer_llm']\n",
    "    \n",
    "    v_llm = embedding_model.encode(answer_llm)\n",
    "    v_orig = embedding_model.encode(answer_orig)\n",
    "    \n",
    "    return v_llm.dot(v_orig)"
   ]
  },
  {
   "cell_type": "code",
   "execution_count": 15,
   "id": "3344bace-098d-473d-841f-3bc7949397a4",
   "metadata": {},
   "outputs": [],
   "source": [
    "similarity = []\n",
    "for index, row in df.iterrows():\n",
    "    sim = compute_similarity(row)\n",
    "    similarity.append(sim)"
   ]
  },
  {
   "cell_type": "code",
   "execution_count": 16,
   "id": "b54a96c0-e991-45f5-a965-ed0ad67b5b55",
   "metadata": {},
   "outputs": [
    {
     "name": "stdout",
     "output_type": "stream",
     "text": [
      "Lists are the same\n"
     ]
    }
   ],
   "source": [
    "if evaluations == similarity:\n",
    "    print(\"Lists are the same\")\n",
    "else:\n",
    "    print(\"Lists are different\")"
   ]
  },
  {
   "cell_type": "markdown",
   "id": "f0cc2645-808a-4653-af99-ea4d8f7e4c0e",
   "metadata": {},
   "source": [
    "#### Let's normalize our vectors and then compute cosine similarity"
   ]
  },
  {
   "cell_type": "code",
   "execution_count": 17,
   "id": "5d93fd71-477f-4b05-9dbd-0831a15b0afc",
   "metadata": {},
   "outputs": [],
   "source": [
    "def compute_similarity_norm(record):\n",
    "    answer_orig = record['answer_orig']\n",
    "    answer_llm = record['answer_llm']\n",
    "    \n",
    "    v_llm = embedding_model.encode(answer_llm)\n",
    "    v_orig = embedding_model.encode(answer_orig)\n",
    "    \n",
    "    # Normalize the vectors\n",
    "    v_llm_norm = v_llm / np.linalg.norm(v_llm)\n",
    "    v_orig_norm = v_orig / np.linalg.norm(v_orig)\n",
    "    \n",
    "    # Calculate the dot product using the normalized vectors\n",
    "    return v_llm_norm.dot(v_orig_norm)"
   ]
  },
  {
   "cell_type": "code",
   "execution_count": 18,
   "id": "b8e2bac1-ec7a-4f63-bc83-7a40cd876588",
   "metadata": {},
   "outputs": [],
   "source": [
    "similarity_norm = []\n",
    "for index, row in df.iterrows():\n",
    "    sim = compute_similarity_norm(row)\n",
    "    similarity_norm.append(sim)"
   ]
  },
  {
   "cell_type": "code",
   "execution_count": 19,
   "id": "325d8697-ce18-4be7-8f97-b7bd0de1e45b",
   "metadata": {},
   "outputs": [
    {
     "data": {
      "text/plain": [
       "count    300.000000\n",
       "mean       0.728393\n",
       "std        0.157755\n",
       "min        0.125357\n",
       "25%        0.651273\n",
       "50%        0.763761\n",
       "75%        0.836235\n",
       "max        0.958796\n",
       "Name: cosine, dtype: float64"
      ]
     },
     "execution_count": 19,
     "metadata": {},
     "output_type": "execute_result"
    }
   ],
   "source": [
    "df['cosine'] = similarity_norm\n",
    "df['cosine'].describe()"
   ]
  },
  {
   "cell_type": "code",
   "execution_count": 22,
   "id": "8ef8c955-3ef2-452e-8750-05cb3fe2b3dc",
   "metadata": {},
   "outputs": [
    {
     "name": "stdout",
     "output_type": "stream",
     "text": [
      "75 percentile is 0.836235\n"
     ]
    }
   ],
   "source": [
    "print(\"75 percentile is 0.836235\")"
   ]
  },
  {
   "cell_type": "code",
   "execution_count": 32,
   "id": "01242d1b-1197-447b-aec9-4bc00eeb22e0",
   "metadata": {},
   "outputs": [],
   "source": [
    "import seaborn as sns"
   ]
  },
  {
   "cell_type": "code",
   "execution_count": 33,
   "id": "c5a4287e-24fb-404d-b53b-8cafa6df91b2",
   "metadata": {},
   "outputs": [
    {
     "name": "stderr",
     "output_type": "stream",
     "text": [
      "/tmp/ipykernel_46551/3710624747.py:1: UserWarning: \n",
      "\n",
      "`distplot` is a deprecated function and will be removed in seaborn v0.14.0.\n",
      "\n",
      "Please adapt your code to use either `displot` (a figure-level function with\n",
      "similar flexibility) or `histplot` (an axes-level function for histograms).\n",
      "\n",
      "For a guide to updating your code to use the new functions, please see\n",
      "https://gist.github.com/mwaskom/de44147ed2974457ad6372750bbe5751\n",
      "\n",
      "  sns.distplot(df['cosine'])\n"
     ]
    },
    {
     "data": {
      "text/plain": [
       "<Axes: xlabel='cosine', ylabel='Density'>"
      ]
     },
     "execution_count": 33,
     "metadata": {},
     "output_type": "execute_result"
    },
    {
     "data": {
      "image/png": "[encoded data removed]",
      "text/plain": [
       "<Figure size 640x480 with 1 Axes>"
      ]
     },
     "metadata": {},
     "output_type": "display_data"
    }
   ],
   "source": [
    "sns.distplot(df['cosine'])"
   ]
  },
  {
   "cell_type": "markdown",
   "id": "f8ab4f48-2db8-4064-b445-5e0181420c15",
   "metadata": {},
   "source": [
    "#### Q4. Rouge\n",
    "Now we will explore an alternative metric - the ROUGE score.\n",
    "\n",
    "This is a set of metrics that compares two answers based on the overlap of n-grams, word sequences, and word pairs.\n",
    "\n",
    "It can give a more nuanced view of text similarity than just cosine similarity alone.\n",
    "\n",
    "We don't need to implement it ourselves, there's a python package for it:"
   ]
  },
  {
   "cell_type": "code",
   "execution_count": null,
   "id": "128813f0-53e1-4fd7-adca-d06b1b7584e1",
   "metadata": {},
   "outputs": [],
   "source": [
    "pip install rouge"
   ]
  },
  {
   "cell_type": "markdown",
   "id": "211c233a-45da-4e0d-b2b0-6ae8310dc0f2",
   "metadata": {},
   "source": [
    "Let's compute the ROUGE score between the answers at the index 10 of our dataframe (doc_id=5170565b)"
   ]
  },
  {
   "cell_type": "code",
   "execution_count": 36,
   "id": "a11f18ad-3291-4c76-b481-740ea2d7301f",
   "metadata": {},
   "outputs": [
    {
     "data": {
      "text/plain": [
       "answer_llm     Yes, all sessions are recorded, so if you miss...\n",
       "answer_orig    Everything is recorded, so you won’t miss anyt...\n",
       "document                                                5170565b\n",
       "question                    Are sessions recorded if I miss one?\n",
       "course                                 machine-learning-zoomcamp\n",
       "cosine                                                  0.777956\n",
       "Name: 10, dtype: object"
      ]
     },
     "execution_count": 36,
     "metadata": {},
     "output_type": "execute_result"
    }
   ],
   "source": [
    "df.iloc[10]"
   ]
  },
  {
   "cell_type": "code",
   "execution_count": 40,
   "id": "3ecf9edc-c2bd-4498-9aa6-2991482f9c8a",
   "metadata": {},
   "outputs": [],
   "source": [
    "from rouge import Rouge\n",
    "rouge_scorer = Rouge()\n",
    "\n",
    "scores = rouge_scorer.get_scores(df.loc[10, 'answer_llm'], df.loc[10, 'answer_orig'])[0]"
   ]
  },
  {
   "cell_type": "code",
   "execution_count": 47,
   "id": "6b99f9d0-1ba2-4874-bbc5-212d5b7e6294",
   "metadata": {},
   "outputs": [
    {
     "data": {
      "text/plain": [
       "{'rouge-1': {'r': 0.45454545454545453,\n",
       "  'p': 0.45454545454545453,\n",
       "  'f': 0.45454544954545456},\n",
       " 'rouge-2': {'r': 0.21621621621621623,\n",
       "  'p': 0.21621621621621623,\n",
       "  'f': 0.21621621121621637},\n",
       " 'rouge-l': {'r': 0.3939393939393939,\n",
       "  'p': 0.3939393939393939,\n",
       "  'f': 0.393939388939394}}"
      ]
     },
     "execution_count": 47,
     "metadata": {},
     "output_type": "execute_result"
    }
   ],
   "source": [
    "scores"
   ]
  },
  {
   "cell_type": "markdown",
   "id": "0d09ba05-864d-4027-aed9-76e4a07b7943",
   "metadata": {},
   "source": [
    "##### There are three scores: rouge-1, rouge-2 and rouge-l, and precision, recall and F1 score for each.\n",
    "\n",
    "rouge-1 - the overlap of unigrams,\n",
    "\n",
    "rouge-2 - bigrams,\n",
    "\n",
    "rouge-l - the longest common subsequence\n",
    "\n",
    "What's the F score for rouge-1?"
   ]
  },
  {
   "cell_type": "code",
   "execution_count": 42,
   "id": "64793097-a16e-4c56-b160-475009f1d9f2",
   "metadata": {},
   "outputs": [
    {
     "name": "stdout",
     "output_type": "stream",
     "text": [
      "0.45454544954545456\n"
     ]
    }
   ],
   "source": [
    "f_score_rouge_1 = scores['rouge-1']['f']\n",
    "print(f_score_rouge_1)"
   ]
  },
  {
   "cell_type": "markdown",
   "id": "eb3de571-a4f5-4712-b2b6-ba771a9db629",
   "metadata": {},
   "source": [
    "#### Q5: Let's compute the average F-score between rouge-1, rouge-2 and rouge-l for the same record from Q4"
   ]
  },
  {
   "cell_type": "code",
   "execution_count": 43,
   "id": "25eb437e-942f-44c8-885d-7b7ff0f2f3a1",
   "metadata": {},
   "outputs": [
    {
     "name": "stdout",
     "output_type": "stream",
     "text": [
      "Average F-score: 0.35490034990035496\n"
     ]
    }
   ],
   "source": [
    "average_f_score = (scores['rouge-1']['f'] + scores['rouge-2']['f'] + scores['rouge-l']['f']) / 3\n",
    "print(\"Average F-score:\", average_f_score)"
   ]
  },
  {
   "cell_type": "markdown",
   "id": "9d340f2b-68ee-4bc1-9fb9-33f0007e7722",
   "metadata": {},
   "source": [
    "#### Q6. Average rouge score for all the data points"
   ]
  },
  {
   "cell_type": "markdown",
   "id": "4fe402ce-bf61-4513-a3e8-dbff1b4c5ab3",
   "metadata": {},
   "source": [
    "###### Now let's compute the F-score for all the records and create a dataframe from them.\n",
    "\n",
    "###### What's the average F-score in rouge_2 across all the records?"
   ]
  },
  {
   "cell_type": "code",
   "execution_count": 48,
   "id": "45e8132f-5417-4479-b668-b99ee6ea867a",
   "metadata": {},
   "outputs": [],
   "source": [
    "rouge_1_f = []\n",
    "rouge_2_f = []\n",
    "rouge_l_f = []"
   ]
  },
  {
   "cell_type": "code",
   "execution_count": 51,
   "id": "a605c077-3b07-4127-9d0f-9e009d216195",
   "metadata": {},
   "outputs": [],
   "source": [
    "for index, row in df.iterrows():\n",
    "    scores = rouge_scorer.get_scores(df.loc[index, 'answer_llm'], df.loc[index, 'answer_orig'])[0]\n",
    "    score_1_f = scores['rouge-1']['f']\n",
    "    score_2_f = scores['rouge-2']['f']\n",
    "    score_l_f = scores['rouge-l']['f']\n",
    "    rouge_1_f.append(score_1_f)\n",
    "    rouge_2_f.append(score_2_f)\n",
    "    rouge_l_f.append(score_l_f)    "
   ]
  },
  {
   "cell_type": "code",
   "execution_count": 53,
   "id": "f8ddd684-7f49-4042-a56d-80fd2a2896d4",
   "metadata": {},
   "outputs": [
    {
     "data": {
      "text/plain": [
       "0.45454544954545456"
      ]
     },
     "execution_count": 53,
     "metadata": {},
     "output_type": "execute_result"
    }
   ],
   "source": [
    "rouge_1_f[10]"
   ]
  },
  {
   "cell_type": "code",
   "execution_count": 54,
   "id": "17d93c9e-7feb-498e-a52f-2eb598f22358",
   "metadata": {},
   "outputs": [
    {
     "data": {
      "text/plain": [
       "0.21621621121621637"
      ]
     },
     "execution_count": 54,
     "metadata": {},
     "output_type": "execute_result"
    }
   ],
   "source": [
    "rouge_2_f[10]"
   ]
  },
  {
   "cell_type": "code",
   "execution_count": 55,
   "id": "d2c3b5ab-61e7-47e8-be65-43024150662a",
   "metadata": {},
   "outputs": [
    {
     "data": {
      "text/plain": [
       "0.393939388939394"
      ]
     },
     "execution_count": 55,
     "metadata": {},
     "output_type": "execute_result"
    }
   ],
   "source": [
    "rouge_l_f[10]"
   ]
  },
  {
   "cell_type": "code",
   "execution_count": 57,
   "id": "3769c7ec-df09-44d3-a735-0f4a3e3b5ea1",
   "metadata": {},
   "outputs": [],
   "source": [
    "df['rouge_1_f'] = rouge_1_f\n",
    "df['rouge_2_f'] = rouge_2_f\n",
    "df['rouge_l_f'] = rouge_l_f"
   ]
  },
  {
   "cell_type": "code",
   "execution_count": 59,
   "id": "4a43ca46-c8cf-48a5-bd99-015db5f6daf7",
   "metadata": {},
   "outputs": [
    {
     "data": {
      "text/html": [
       "<div>\n",
       "<style scoped>\n",
       "    .dataframe tbody tr th:only-of-type {\n",
       "        vertical-align: middle;\n",
       "    }\n",
       "\n",
       "    .dataframe tbody tr th {\n",
       "        vertical-align: top;\n",
       "    }\n",
       "\n",
       "    .dataframe thead th {\n",
       "        text-align: right;\n",
       "    }\n",
       "</style>\n",
       "<table border=\"1\" class=\"dataframe\">\n",
       "  <thead>\n",
       "    <tr style=\"text-align: right;\">\n",
       "      <th></th>\n",
       "      <th>cosine</th>\n",
       "      <th>rouge_1_f</th>\n",
       "      <th>rouge_2_f</th>\n",
       "      <th>rouge_l_f</th>\n",
       "    </tr>\n",
       "  </thead>\n",
       "  <tbody>\n",
       "    <tr>\n",
       "      <th>count</th>\n",
       "      <td>300.000000</td>\n",
       "      <td>300.000000</td>\n",
       "      <td>300.000000</td>\n",
       "      <td>300.000000</td>\n",
       "    </tr>\n",
       "    <tr>\n",
       "      <th>mean</th>\n",
       "      <td>0.728393</td>\n",
       "      <td>0.378844</td>\n",
       "      <td>0.206965</td>\n",
       "      <td>0.353807</td>\n",
       "    </tr>\n",
       "    <tr>\n",
       "      <th>std</th>\n",
       "      <td>0.157755</td>\n",
       "      <td>0.165977</td>\n",
       "      <td>0.153550</td>\n",
       "      <td>0.162965</td>\n",
       "    </tr>\n",
       "    <tr>\n",
       "      <th>min</th>\n",
       "      <td>0.125357</td>\n",
       "      <td>0.000000</td>\n",
       "      <td>0.000000</td>\n",
       "      <td>0.000000</td>\n",
       "    </tr>\n",
       "    <tr>\n",
       "      <th>25%</th>\n",
       "      <td>0.651273</td>\n",
       "      <td>0.261625</td>\n",
       "      <td>0.097809</td>\n",
       "      <td>0.228032</td>\n",
       "    </tr>\n",
       "    <tr>\n",
       "      <th>50%</th>\n",
       "      <td>0.763761</td>\n",
       "      <td>0.378762</td>\n",
       "      <td>0.178671</td>\n",
       "      <td>0.337792</td>\n",
       "    </tr>\n",
       "    <tr>\n",
       "      <th>75%</th>\n",
       "      <td>0.836235</td>\n",
       "      <td>0.479281</td>\n",
       "      <td>0.286181</td>\n",
       "      <td>0.451613</td>\n",
       "    </tr>\n",
       "    <tr>\n",
       "      <th>max</th>\n",
       "      <td>0.958796</td>\n",
       "      <td>0.850000</td>\n",
       "      <td>0.739130</td>\n",
       "      <td>0.850000</td>\n",
       "    </tr>\n",
       "  </tbody>\n",
       "</table>\n",
       "</div>"
      ],
      "text/plain": [
       "           cosine   rouge_1_f   rouge_2_f   rouge_l_f\n",
       "count  300.000000  300.000000  300.000000  300.000000\n",
       "mean     0.728393    0.378844    0.206965    0.353807\n",
       "std      0.157755    0.165977    0.153550    0.162965\n",
       "min      0.125357    0.000000    0.000000    0.000000\n",
       "25%      0.651273    0.261625    0.097809    0.228032\n",
       "50%      0.763761    0.378762    0.178671    0.337792\n",
       "75%      0.836235    0.479281    0.286181    0.451613\n",
       "max      0.958796    0.850000    0.739130    0.850000"
      ]
     },
     "execution_count": 59,
     "metadata": {},
     "output_type": "execute_result"
    }
   ],
   "source": [
    "df.describe()"
   ]
  },
  {
   "cell_type": "code",
   "execution_count": 61,
   "id": "30f540d1-6f04-488c-a7d4-74123de3f2e6",
   "metadata": {},
   "outputs": [
    {
     "name": "stdout",
     "output_type": "stream",
     "text": [
      "0.20696501983423318\n"
     ]
    }
   ],
   "source": [
    "print(df['rouge_2_f'].mean())"
   ]
  }
 ],
 "metadata": {
  "kernelspec": {
   "display_name": "Python 3 (ipykernel)",
   "language": "python",
   "name": "python3"
  },
  "language_info": {
   "codemirror_mode": {
    "name": "ipython",
    "version": 3
   },
   "file_extension": ".py",
   "mimetype": "text/x-python",
   "name": "python",
   "nbconvert_exporter": "python",
   "pygments_lexer": "ipython3",
   "version": "3.10.13"
  }
 },
 "nbformat": 4,
 "nbformat_minor": 5
}
